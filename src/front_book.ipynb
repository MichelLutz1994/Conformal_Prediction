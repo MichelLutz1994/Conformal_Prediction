{
 "cells": [
  {
   "cell_type": "code",
   "execution_count": 1,
   "outputs": [],
   "source": [
    "import matplotlib.pyplot as plt \n",
    "import numpy as np\n",
    "import pandas as pd\n",
    "from os.path import exists\n",
    "import time\n",
    "\n",
    "import pandas as pd\n",
    "from sklearn.model_selection import train_test_split\n",
    "\n",
    "from data.data_generation import create_artificial_data, load_beans_data\n",
    "from models.traditional_models import GaussianNBModel, SVM, RandomForest, AdaBoost\n",
    "from models.myMLP import MyMLP\n",
    "from conformal_methods.mapie_evaluation import evaluate_mapie\n",
    "from conformal_methods.byhand_evaluation import score_methode, adaptive_prediction_methode\n",
    "from conformal_methods.evaluation import evaluate_conformal, epoch_time\n",
    "\n",
    "from models.skorchMLP import skorchMLP\n",
    "\n",
    "import torch\n",
    "\n",
    "from mapie.classification import MapieClassifier\n",
    "from mapie.metrics import classification_coverage_score, classification_mean_width_score"
   ],
   "metadata": {
    "collapsed": false,
    "ExecuteTime": {
     "start_time": "2023-10-31T13:46:03.588501800Z"
    }
   },
   "id": "9c670a53ef673f45"
  },
  {
   "cell_type": "markdown",
   "source": [
    "# Create Data"
   ],
   "metadata": {
    "collapsed": false
   },
   "id": "80e14a6baccebdb0"
  },
  {
   "cell_type": "code",
   "execution_count": 2,
   "outputs": [
    {
     "name": "stdout",
     "output_type": "stream",
     "text": [
      "Shape of the data: (10000, 21)\n",
      "Classes:  5  Features :  20\n"
     ]
    }
   ],
   "source": [
    "#dataset=\"beans\"\n",
    "dataset=\"artifical\"\n",
    "if dataset==\"beans\":\n",
    "    data, classes = load_beans_data()\n",
    "    n_classes = len(classes.classes_)\n",
    "    n_features = data.shape[1]-1\n",
    "else:\n",
    "    n_classes = 5\n",
    "    n_features = 20\n",
    "    classes = None\n",
    "    data = create_artificial_data(n_features, n_classes)\n",
    "\n",
    "print('Shape of the data:', data.shape)\n",
    "print(\"Classes: \", n_classes, \" Features : \", n_features)\n",
    "\n",
    "#data.head()\n",
    "#fig = plt.figure(figsize=(8, 6))\n",
    "#plt.matshow( data.corr(), fignum=fig.number )\n",
    "#cb = plt.colorbar()\n",
    "#cb.ax.tick_params(labelsize=14)\n",
    "#plt.title('Correlation Matrix', fontsize=16);"
   ],
   "metadata": {
    "collapsed": false,
    "ExecuteTime": {
     "start_time": "2023-10-31T13:46:11.493891900Z"
    }
   },
   "id": "initial_id"
  },
  {
   "cell_type": "code",
   "execution_count": 3,
   "outputs": [
    {
     "name": "stdout",
     "output_type": "stream",
     "text": [
      "Data sizes train: 7000, test: 1000, calibration: 1000, new: 1000\n"
     ]
    }
   ],
   "source": [
    "Y = data[\"Class\"]\n",
    "X = data.drop(\"Class\", axis=1)\n",
    "X_train, X_rest1, y_train, y_rest1 = train_test_split(X, Y, train_size=7000, random_state=2)\n",
    "X_test, X_rest2, y_test, y_rest2 = train_test_split(X_rest1, y_rest1, train_size=1000, random_state=42)\n",
    "X_calib, X_new, y_calib, y_new = train_test_split(X_rest2, y_rest2, train_size=1000, random_state=42)\n",
    "\n",
    "print(\"Data sizes train: %i, test: %i, calibration: %i, new: %i\" % (len(X_train), len(X_test), len(X_calib), len(X_new)))"
   ],
   "metadata": {
    "collapsed": false,
    "ExecuteTime": {
     "start_time": "2023-10-31T13:46:11.541513900Z"
    }
   },
   "id": "9ede7e6ae24b9597"
  },
  {
   "cell_type": "markdown",
   "source": [
    "# Load and Train models"
   ],
   "metadata": {
    "collapsed": false
   },
   "id": "366823166ca65eb2"
  },
  {
   "cell_type": "code",
   "execution_count": 10,
   "outputs": [
    {
     "name": "stdout",
     "output_type": "stream",
     "text": [
      "Gauss acc:  0.777\n",
      "SVM acc:  0.979\n"
     ]
    }
   ],
   "source": [
    "gaussianNB_model = GaussianNBModel()\n",
    "gaussianNB_model.fit(X_train, y_train)\n",
    "gaussianNB_model.predict_acc(X_test, y_test)\n",
    "print(\"Gauss acc: \", gaussianNB_model.acc)\n",
    "\n",
    "svm_model = SVM()\n",
    "svm_model.fit(X_train, y_train)\n",
    "svm_model.predict_acc(X_test, y_test)\n",
    "print(\"SVM acc: \" , svm_model.acc)\n",
    "\n",
    "#random_forest_model = RandomForest()\n",
    "#random_forest_model.fit(X_train, y_train)\n",
    "#random_forest_model.predict(X_test, y_test)\n",
    "#print(\"Forest: \" , random_forest_model.acc)\n",
    "\n",
    "#adaBoost_model = AdaBoost()\n",
    "#adaBoost_model.fit(X_train, y_train)\n",
    "#adaBoost_model.predict(X_test, y_test)\n",
    "#print(\"Ada acc: \", adaBoost_model.acc)\n",
    "\n",
    "#mlp_model = MyMLP(n_classes, n_features, dataset=\"beans\")\n",
    "#mlp_model.fitNN(X_train, y_train, X_test, y_test)\n",
    "#mlp_model.predict_acc(X_test, y_test) \n",
    "#print(\"MLP acc: \", mlp_model.acc)"
   ],
   "metadata": {
    "collapsed": false,
    "ExecuteTime": {
     "end_time": "2023-10-31T06:45:41.410475Z",
     "start_time": "2023-10-31T06:45:39.217538200Z"
    }
   },
   "id": "55e5573c38e25a7b"
  },
  {
   "cell_type": "markdown",
   "source": [
    "# Conformal prediction using naive score approach"
   ],
   "metadata": {
    "collapsed": false
   },
   "id": "7eda81cf91ed5cf6"
  },
  {
   "cell_type": "markdown",
   "source": [
    "### MAPIE"
   ],
   "metadata": {
    "collapsed": false
   },
   "id": "2305cbc08db3e934"
  },
  {
   "cell_type": "code",
   "execution_count": 22,
   "outputs": [
    {
     "name": "stdout",
     "output_type": "stream",
     "text": [
      "Coverage: 89.40%\n",
      "Avg. set size: 0.899000\n",
      "\n",
      "   class  coverage  avg. set size\n",
      "0      0  0.900943       0.905660\n",
      "1      1  0.930233       0.934884\n",
      "2      2  0.862222       0.862222\n",
      "3      3  0.876404       0.882022\n",
      "4      4  0.900000       0.911765\n"
     ]
    }
   ],
   "source": [
    "evaluate_mapie(svm_model.model, X_calib, y_calib, X_new, y_new, alpha=0.1, cv=\"prefit\", method=\"lac\", include_last_label=True,  classes=classes)"
   ],
   "metadata": {
    "collapsed": false,
    "ExecuteTime": {
     "end_time": "2023-10-31T07:32:38.643697400Z",
     "start_time": "2023-10-31T07:32:38.110123200Z"
    }
   },
   "id": "fb19f79f07b3f895"
  },
  {
   "cell_type": "markdown",
   "source": [
    "### By hand"
   ],
   "metadata": {
    "collapsed": false
   },
   "id": "6fdcd51667b563d0"
  },
  {
   "cell_type": "code",
   "execution_count": 7,
   "outputs": [
    {
     "name": "stdout",
     "output_type": "stream",
     "text": [
      "Coverage: 98.74%\n",
      "Avg. set size: 1.283453\n",
      "\n",
      "   class  coverage  avg. set size\n",
      "0      0  0.980132       1.264901\n",
      "1      1  1.000000       1.028409\n",
      "2      2  0.990530       1.297348\n",
      "3      3  0.993115       1.294320\n",
      "4      4  0.980655       1.160714\n",
      "5      5  0.987143       1.177143\n",
      "6      6  0.984783       1.490217\n"
     ]
    }
   ],
   "source": [
    "prediction_set = score_methode(svm_model.model, X_calib, y_calib, X_new, alpha=0.01)\n",
    "evaluate_conformal(prediction_set, y_new, list(set(y_calib)))"
   ],
   "metadata": {
    "collapsed": false,
    "ExecuteTime": {
     "end_time": "2023-10-27T10:24:56.628458400Z",
     "start_time": "2023-10-27T10:24:55.921277Z"
    }
   },
   "id": "3d68197ad05eec33"
  },
  {
   "cell_type": "code",
   "execution_count": null,
   "outputs": [],
   "source": [
    "prediction_set = score_methode(gaussianNB_model.model, X_calib, y_calib, X_new, alpha=0.01)\n",
    "evaluate_conformal(prediction_set, y_new, list(set(y_calib)))"
   ],
   "metadata": {
    "collapsed": false
   },
   "id": "67648a6b8d84572e"
  },
  {
   "cell_type": "code",
   "execution_count": null,
   "outputs": [],
   "source": [
    "#prediction_set = score_methode(mlp_model, X_calib, y_calib, X_new, alpha=0.01)\n",
    "#evaluate_conformal(prediction_set, y_new, list(set(y_calib)))"
   ],
   "metadata": {
    "collapsed": false
   },
   "id": "84e6904fc90cd7e4"
  },
  {
   "cell_type": "markdown",
   "source": [
    "# Adaptive prediction set"
   ],
   "metadata": {
    "collapsed": false
   },
   "id": "df14d79dfa09b6a4"
  },
  {
   "cell_type": "code",
   "execution_count": 8,
   "outputs": [
    {
     "name": "stdout",
     "output_type": "stream",
     "text": [
      "Coverage: 94.32%\n",
      "Avg. set size: 1.389720\n",
      "\n",
      "      class  coverage  avg. set size\n",
      "0  BARBUNYA  0.894040       1.306843\n",
      "1    BOMBAY  1.000000       1.994318\n",
      "2      CALI  0.946970       1.181818\n",
      "3  DERMASON  0.934596       1.460413\n",
      "4     HOROZ  0.968750       1.578869\n",
      "5     SEKER  0.954286       1.451429\n",
      "6      SIRA  0.938043       1.159783\n"
     ]
    }
   ],
   "source": [
    "evaluate_mapie(gaussianNB_model.model, X_calib, y_calib, X_new, y_new, alpha=0.05, cv=\"prefit\", method=\"cumulated_score\", include_last_label=\"randomized\", classes=classes)"
   ],
   "metadata": {
    "collapsed": false,
    "ExecuteTime": {
     "end_time": "2023-10-27T10:25:32.932141100Z",
     "start_time": "2023-10-27T10:25:32.882348100Z"
    }
   },
   "id": "491feeb0e7c5de8b"
  },
  {
   "cell_type": "code",
   "execution_count": 9,
   "outputs": [
    {
     "name": "stdout",
     "output_type": "stream",
     "text": [
      "Coverage: 99.35%\n",
      "Avg. set size: 1.723054\n",
      "\n",
      "   class  coverage  avg. set size\n",
      "0      0  0.995585       1.878587\n",
      "1      1  1.000000       1.005682\n",
      "2      2  0.994318       2.204545\n",
      "3      3  0.998279       1.670396\n",
      "4      4  0.986607       1.385417\n",
      "5      5  0.987143       1.394286\n",
      "6      6  0.994565       2.070652\n"
     ]
    }
   ],
   "source": [
    "prediction_set = adaptive_prediction_methode(gaussianNB_model.model, X_calib, y_calib, X_new, alpha=0.01)\n",
    "evaluate_conformal(prediction_set, y_new, list(set(y_calib)))"
   ],
   "metadata": {
    "collapsed": false,
    "ExecuteTime": {
     "end_time": "2023-10-27T10:25:39.787093300Z",
     "start_time": "2023-10-27T10:25:39.728516700Z"
    }
   },
   "id": "447b9e752ca65014"
  },
  {
   "cell_type": "code",
   "execution_count": null,
   "outputs": [],
   "source": [
    "#full conformal prediction\n",
    "# cave the test set is for evaluating the machine learning step\n",
    "# new datapoints for evaluating the conformal methode\n",
    "\n",
    "# see how indexing works\n",
    "#idx = X_new.index[12]\n",
    "#print(X_new.loc[[idx]])\n",
    "#print(y_new.loc[[idx]])\n",
    "\n",
    "idx = X_new.index[0]\n",
    "X_full_test = pd.concat([X_train, X_calib, X_new.loc[[idx]]])\n",
    "y_correct = y_new.loc[[idx]]\n",
    "y_full_test = pd.concat([y_train, y_test])\n",
    "y_guess = 1\n",
    "y_full_test.loc[idx] = y_guess\n",
    "print(X_new.loc[[idx]])\n",
    "print(y_correct)\n",
    "print(y_full_test.loc[[idx]])"
   ],
   "metadata": {
    "collapsed": false
   },
   "id": "d0b64f1d57c9fbcc"
  },
  {
   "cell_type": "code",
   "execution_count": 10,
   "outputs": [],
   "source": [
    "# iterate over all test points, idx is the pd index of the test point\n",
    "\n",
    "def full_conformal(model, X_train, y_train, X_calib, y_calib, X_new, y_new, alpha=0.1):   \n",
    "    coverage = 0\n",
    "    prediction_set_size = 0\n",
    "    y_pred = []\n",
    "    \n",
    "    start_time = time.monotonic()\n",
    "    \n",
    "    for idx in X_new.index:\n",
    "        # construct new dataset with test point\n",
    "        X_full_test = pd.concat([X_train, X_calib, X_new.loc[[idx]]])\n",
    "        n = len(X_full_test)\n",
    "        \n",
    "        # this is the correct label\n",
    "        y_correct = y_new.loc[[idx]]\n",
    "        \n",
    "        prediction_set = []\n",
    "        \n",
    "        # iterate over all possible labels in Y\n",
    "        for y_guess in range(0,n_classes):\n",
    "            # create new label set\n",
    "            y_full_test = pd.concat([y_train, y_calib])\n",
    "            y_full_test.loc[idx] = y_guess\n",
    "            \n",
    "            # train model\n",
    "            model.fit(X_full_test, y_full_test)\n",
    "            \n",
    "            # calculate conformal scores s_i on full set\n",
    "            raw_score_cal = model.model.predict_proba(X_full_test)\n",
    "            cal_scores = 1 - raw_score_cal[np.arange(n), y_full_test]\n",
    "            \n",
    "            # calculate qhat_y as quantile of the scores\n",
    "            q_level = np.ceil((n + 1) * (1 - alpha)) / n\n",
    "            qhat = np.quantile(cal_scores, q_level, method='higher')\n",
    "            \n",
    "            # check if s_test <= qhat_y\n",
    "            s_test_raw = model.model.predict_proba(X_full_test.loc[[idx]])\n",
    "            s_test = 1 - s_test_raw[0, y_guess]\n",
    "            if s_test <= qhat:\n",
    "                prediction_set.append(y_guess)\n",
    "        \n",
    "        y_pred.append(prediction_set)\n",
    "        # see if y_correct is in the prediction set\n",
    "        if y_correct.iloc[0] in prediction_set:\n",
    "            coverage += 1\n",
    "        prediction_set_size += len(prediction_set)   \n",
    "        \n",
    "    coverage = coverage / len(X_new)  \n",
    "    prediction_set_size = prediction_set_size / len(X_new)\n",
    "    \n",
    "    end_time = time.monotonic()\n",
    "    return y_pred, coverage, prediction_set_size, epoch_time(start_time, end_time)"
   ],
   "metadata": {
    "collapsed": false,
    "ExecuteTime": {
     "end_time": "2023-10-27T10:26:15.691711800Z",
     "start_time": "2023-10-27T10:26:15.675638900Z"
    }
   },
   "id": "5da80bd18676e66b"
  },
  {
   "cell_type": "code",
   "execution_count": 11,
   "outputs": [],
   "source": [
    "y_pred, coverage, prediction_set_size, time = full_conformal(GaussianNBModel(), \n",
    "                                                       X_train, y_train, X_calib, y_calib, X_new, y_new,\n",
    "                                                       alpha=0.1)"
   ],
   "metadata": {
    "collapsed": false,
    "ExecuteTime": {
     "end_time": "2023-10-27T10:32:34.136172900Z",
     "start_time": "2023-10-27T10:26:20.244257Z"
    }
   },
   "id": "da8f54798fbe70cf"
  },
  {
   "cell_type": "code",
   "execution_count": 14,
   "outputs": [
    {
     "data": {
      "text/plain": "1.013229234439384"
     },
     "execution_count": 14,
     "metadata": {},
     "output_type": "execute_result"
    }
   ],
   "source": [
    "prediction_set_size"
   ],
   "metadata": {
    "collapsed": false,
    "ExecuteTime": {
     "end_time": "2023-10-27T10:48:11.961472300Z",
     "start_time": "2023-10-27T10:48:11.945724Z"
    }
   },
   "id": "3bb96df0d81e58d1"
  }
 ],
 "metadata": {
  "kernelspec": {
   "name": "conda-env-conformal_env-py",
   "language": "python",
   "display_name": "Python [conda env:conformal_env] *"
  },
  "language_info": {
   "codemirror_mode": {
    "name": "ipython",
    "version": 2
   },
   "file_extension": ".py",
   "mimetype": "text/x-python",
   "name": "python",
   "nbconvert_exporter": "python",
   "pygments_lexer": "ipython2",
   "version": "2.7.6"
  }
 },
 "nbformat": 4,
 "nbformat_minor": 5
}
