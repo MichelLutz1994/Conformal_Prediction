{
 "cells": [
  {
   "cell_type": "code",
   "execution_count": 1,
   "id": "b4e5b31f",
   "metadata": {},
   "outputs": [],
   "source": [
    "import os\n",
    "import zipfile\n",
    "from os.path import exists\n",
    "\n",
    "import pandas as pd\n",
    "import numpy as np\n",
    "\n",
    "from sklearn.model_selection import train_test_split\n",
    "from sklearn.preprocessing import LabelEncoder\n",
    "from sklearn.naive_bayes import GaussianNB\n",
    "from sklearn.metrics import confusion_matrix\n",
    "\n",
    "from mapie.classification import MapieClassifier\n",
    "from mapie.metrics import classification_coverage_score\n",
    "from mapie.metrics import classification_mean_width_score"
   ]
  },
  {
   "cell_type": "code",
   "execution_count": 2,
   "id": "7489b02d",
   "metadata": {},
   "outputs": [],
   "source": [
    "# import dataset\n",
    "bean_data_file = \"../data/DryBeanDataset/dry_bean_dataset.zip\"\n",
    "if exists(bean_data_file):\n",
    "    with zipfile.ZipFile(bean_data_file, 'r') as zip_ref:\n",
    "            zip_ref.extractall(path=\"../data\")"
   ]
  },
  {
   "cell_type": "code",
   "execution_count": 3,
   "id": "b0d700bd",
   "metadata": {},
   "outputs": [],
   "source": [
    "bean_data_file = \"../data/DryBeanDataset/Dry_Bean_Dataset.xlsx\"\n",
    "beans = pd.read_excel(bean_data_file, engine='openpyxl')"
   ]
  },
  {
   "cell_type": "code",
   "execution_count": 4,
   "id": "3cb391f4",
   "metadata": {},
   "outputs": [
    {
     "data": {
      "text/html": [
       "<div>\n",
       "<style scoped>\n",
       "    .dataframe tbody tr th:only-of-type {\n",
       "        vertical-align: middle;\n",
       "    }\n",
       "\n",
       "    .dataframe tbody tr th {\n",
       "        vertical-align: top;\n",
       "    }\n",
       "\n",
       "    .dataframe thead th {\n",
       "        text-align: right;\n",
       "    }\n",
       "</style>\n",
       "<table border=\"1\" class=\"dataframe\">\n",
       "  <thead>\n",
       "    <tr style=\"text-align: right;\">\n",
       "      <th></th>\n",
       "      <th>Area</th>\n",
       "      <th>Perimeter</th>\n",
       "      <th>MajorAxisLength</th>\n",
       "      <th>MinorAxisLength</th>\n",
       "      <th>AspectRation</th>\n",
       "      <th>Eccentricity</th>\n",
       "      <th>ConvexArea</th>\n",
       "      <th>EquivDiameter</th>\n",
       "      <th>Extent</th>\n",
       "      <th>Solidity</th>\n",
       "      <th>roundness</th>\n",
       "      <th>Compactness</th>\n",
       "      <th>ShapeFactor1</th>\n",
       "      <th>ShapeFactor2</th>\n",
       "      <th>ShapeFactor3</th>\n",
       "      <th>ShapeFactor4</th>\n",
       "      <th>Class</th>\n",
       "    </tr>\n",
       "  </thead>\n",
       "  <tbody>\n",
       "    <tr>\n",
       "      <th>0</th>\n",
       "      <td>28395</td>\n",
       "      <td>610.291</td>\n",
       "      <td>208.178117</td>\n",
       "      <td>173.888747</td>\n",
       "      <td>1.197191</td>\n",
       "      <td>0.549812</td>\n",
       "      <td>28715</td>\n",
       "      <td>190.141097</td>\n",
       "      <td>0.763923</td>\n",
       "      <td>0.988856</td>\n",
       "      <td>0.958027</td>\n",
       "      <td>0.913358</td>\n",
       "      <td>0.007332</td>\n",
       "      <td>0.003147</td>\n",
       "      <td>0.834222</td>\n",
       "      <td>0.998724</td>\n",
       "      <td>SEKER</td>\n",
       "    </tr>\n",
       "    <tr>\n",
       "      <th>1</th>\n",
       "      <td>28734</td>\n",
       "      <td>638.018</td>\n",
       "      <td>200.524796</td>\n",
       "      <td>182.734419</td>\n",
       "      <td>1.097356</td>\n",
       "      <td>0.411785</td>\n",
       "      <td>29172</td>\n",
       "      <td>191.272750</td>\n",
       "      <td>0.783968</td>\n",
       "      <td>0.984986</td>\n",
       "      <td>0.887034</td>\n",
       "      <td>0.953861</td>\n",
       "      <td>0.006979</td>\n",
       "      <td>0.003564</td>\n",
       "      <td>0.909851</td>\n",
       "      <td>0.998430</td>\n",
       "      <td>SEKER</td>\n",
       "    </tr>\n",
       "    <tr>\n",
       "      <th>2</th>\n",
       "      <td>29380</td>\n",
       "      <td>624.110</td>\n",
       "      <td>212.826130</td>\n",
       "      <td>175.931143</td>\n",
       "      <td>1.209713</td>\n",
       "      <td>0.562727</td>\n",
       "      <td>29690</td>\n",
       "      <td>193.410904</td>\n",
       "      <td>0.778113</td>\n",
       "      <td>0.989559</td>\n",
       "      <td>0.947849</td>\n",
       "      <td>0.908774</td>\n",
       "      <td>0.007244</td>\n",
       "      <td>0.003048</td>\n",
       "      <td>0.825871</td>\n",
       "      <td>0.999066</td>\n",
       "      <td>SEKER</td>\n",
       "    </tr>\n",
       "    <tr>\n",
       "      <th>3</th>\n",
       "      <td>30008</td>\n",
       "      <td>645.884</td>\n",
       "      <td>210.557999</td>\n",
       "      <td>182.516516</td>\n",
       "      <td>1.153638</td>\n",
       "      <td>0.498616</td>\n",
       "      <td>30724</td>\n",
       "      <td>195.467062</td>\n",
       "      <td>0.782681</td>\n",
       "      <td>0.976696</td>\n",
       "      <td>0.903936</td>\n",
       "      <td>0.928329</td>\n",
       "      <td>0.007017</td>\n",
       "      <td>0.003215</td>\n",
       "      <td>0.861794</td>\n",
       "      <td>0.994199</td>\n",
       "      <td>SEKER</td>\n",
       "    </tr>\n",
       "    <tr>\n",
       "      <th>4</th>\n",
       "      <td>30140</td>\n",
       "      <td>620.134</td>\n",
       "      <td>201.847882</td>\n",
       "      <td>190.279279</td>\n",
       "      <td>1.060798</td>\n",
       "      <td>0.333680</td>\n",
       "      <td>30417</td>\n",
       "      <td>195.896503</td>\n",
       "      <td>0.773098</td>\n",
       "      <td>0.990893</td>\n",
       "      <td>0.984877</td>\n",
       "      <td>0.970516</td>\n",
       "      <td>0.006697</td>\n",
       "      <td>0.003665</td>\n",
       "      <td>0.941900</td>\n",
       "      <td>0.999166</td>\n",
       "      <td>SEKER</td>\n",
       "    </tr>\n",
       "  </tbody>\n",
       "</table>\n",
       "</div>"
      ],
      "text/plain": [
       "    Area  Perimeter  MajorAxisLength  MinorAxisLength  AspectRation  \\\n",
       "0  28395    610.291       208.178117       173.888747      1.197191   \n",
       "1  28734    638.018       200.524796       182.734419      1.097356   \n",
       "2  29380    624.110       212.826130       175.931143      1.209713   \n",
       "3  30008    645.884       210.557999       182.516516      1.153638   \n",
       "4  30140    620.134       201.847882       190.279279      1.060798   \n",
       "\n",
       "   Eccentricity  ConvexArea  EquivDiameter    Extent  Solidity  roundness  \\\n",
       "0      0.549812       28715     190.141097  0.763923  0.988856   0.958027   \n",
       "1      0.411785       29172     191.272750  0.783968  0.984986   0.887034   \n",
       "2      0.562727       29690     193.410904  0.778113  0.989559   0.947849   \n",
       "3      0.498616       30724     195.467062  0.782681  0.976696   0.903936   \n",
       "4      0.333680       30417     195.896503  0.773098  0.990893   0.984877   \n",
       "\n",
       "   Compactness  ShapeFactor1  ShapeFactor2  ShapeFactor3  ShapeFactor4  Class  \n",
       "0     0.913358      0.007332      0.003147      0.834222      0.998724  SEKER  \n",
       "1     0.953861      0.006979      0.003564      0.909851      0.998430  SEKER  \n",
       "2     0.908774      0.007244      0.003048      0.825871      0.999066  SEKER  \n",
       "3     0.928329      0.007017      0.003215      0.861794      0.994199  SEKER  \n",
       "4     0.970516      0.006697      0.003665      0.941900      0.999166  SEKER  "
      ]
     },
     "execution_count": 4,
     "metadata": {},
     "output_type": "execute_result"
    }
   ],
   "source": [
    "beans.head()"
   ]
  },
  {
   "cell_type": "code",
   "execution_count": 5,
   "id": "6977d318",
   "metadata": {},
   "outputs": [],
   "source": [
    "le = LabelEncoder()\n",
    "beans[\"Class\"] = le.fit_transform(beans[\"Class\"])"
   ]
  },
  {
   "cell_type": "code",
   "execution_count": 6,
   "id": "80f2d276",
   "metadata": {},
   "outputs": [],
   "source": [
    "Y = beans[\"Class\"]\n",
    "X = beans.drop(\"Class\", axis=1)\n",
    "X_train, X_rest1, y_train, y_rest1 = train_test_split(X, Y, train_size=10000, random_state=2)\n",
    "X_test, X_rest2, y_test, y_rest2 = train_test_split(X_rest1, y_rest1, train_size=1000, random_state=42)\n",
    "X_calib, X_new, y_calib, y_new = train_test_split(X_rest2, y_rest2, train_size=1000, random_state=42)"
   ]
  },
  {
   "cell_type": "markdown",
   "id": "97664ebb",
   "metadata": {},
   "source": [
    "## 1. Non Conformal prediction"
   ]
  },
  {
   "cell_type": "code",
   "execution_count": 33,
   "id": "afbf0540",
   "metadata": {},
   "outputs": [],
   "source": [
    "model = GaussianNB().fit(X_train, y_train)"
   ]
  },
  {
   "cell_type": "code",
   "execution_count": 34,
   "id": "566050c7",
   "metadata": {},
   "outputs": [
    {
     "name": "stdout",
     "output_type": "stream",
     "text": [
      "Accuracy: 0.758\n"
     ]
    }
   ],
   "source": [
    "y_pred = model.predict(X_test)\n",
    "print(\"Accuracy:\", (y_pred == y_test).mean() )"
   ]
  },
  {
   "cell_type": "code",
   "execution_count": 35,
   "id": "5b5b05d7",
   "metadata": {},
   "outputs": [
    {
     "data": {
      "text/html": [
       "<div>\n",
       "<style scoped>\n",
       "    .dataframe tbody tr th:only-of-type {\n",
       "        vertical-align: middle;\n",
       "    }\n",
       "\n",
       "    .dataframe tbody tr th {\n",
       "        vertical-align: top;\n",
       "    }\n",
       "\n",
       "    .dataframe thead th {\n",
       "        text-align: right;\n",
       "    }\n",
       "</style>\n",
       "<table border=\"1\" class=\"dataframe\">\n",
       "  <thead>\n",
       "    <tr style=\"text-align: right;\">\n",
       "      <th></th>\n",
       "      <th>Area</th>\n",
       "      <th>Perimeter</th>\n",
       "      <th>MajorAxisLength</th>\n",
       "      <th>MinorAxisLength</th>\n",
       "      <th>AspectRation</th>\n",
       "      <th>Eccentricity</th>\n",
       "      <th>ConvexArea</th>\n",
       "      <th>EquivDiameter</th>\n",
       "      <th>Extent</th>\n",
       "      <th>Solidity</th>\n",
       "      <th>roundness</th>\n",
       "      <th>Compactness</th>\n",
       "      <th>ShapeFactor1</th>\n",
       "      <th>ShapeFactor2</th>\n",
       "      <th>ShapeFactor3</th>\n",
       "      <th>ShapeFactor4</th>\n",
       "    </tr>\n",
       "  </thead>\n",
       "  <tbody>\n",
       "    <tr>\n",
       "      <th>7448</th>\n",
       "      <td>34189</td>\n",
       "      <td>687.252</td>\n",
       "      <td>249.062125</td>\n",
       "      <td>174.993660</td>\n",
       "      <td>1.423264</td>\n",
       "      <td>0.711575</td>\n",
       "      <td>34559</td>\n",
       "      <td>208.640329</td>\n",
       "      <td>0.730066</td>\n",
       "      <td>0.989294</td>\n",
       "      <td>0.909629</td>\n",
       "      <td>0.837704</td>\n",
       "      <td>0.007285</td>\n",
       "      <td>0.002213</td>\n",
       "      <td>0.701748</td>\n",
       "      <td>0.998772</td>\n",
       "    </tr>\n",
       "    <tr>\n",
       "      <th>9407</th>\n",
       "      <td>47783</td>\n",
       "      <td>820.597</td>\n",
       "      <td>311.415698</td>\n",
       "      <td>196.680458</td>\n",
       "      <td>1.583359</td>\n",
       "      <td>0.775320</td>\n",
       "      <td>48265</td>\n",
       "      <td>246.656046</td>\n",
       "      <td>0.826524</td>\n",
       "      <td>0.990013</td>\n",
       "      <td>0.891710</td>\n",
       "      <td>0.792048</td>\n",
       "      <td>0.006517</td>\n",
       "      <td>0.001582</td>\n",
       "      <td>0.627339</td>\n",
       "      <td>0.993303</td>\n",
       "    </tr>\n",
       "    <tr>\n",
       "      <th>9908</th>\n",
       "      <td>51935</td>\n",
       "      <td>864.959</td>\n",
       "      <td>326.225089</td>\n",
       "      <td>203.108862</td>\n",
       "      <td>1.606159</td>\n",
       "      <td>0.782538</td>\n",
       "      <td>52490</td>\n",
       "      <td>257.149170</td>\n",
       "      <td>0.795573</td>\n",
       "      <td>0.989427</td>\n",
       "      <td>0.872326</td>\n",
       "      <td>0.788257</td>\n",
       "      <td>0.006281</td>\n",
       "      <td>0.001496</td>\n",
       "      <td>0.621349</td>\n",
       "      <td>0.997985</td>\n",
       "    </tr>\n",
       "    <tr>\n",
       "      <th>5834</th>\n",
       "      <td>47091</td>\n",
       "      <td>874.362</td>\n",
       "      <td>353.032918</td>\n",
       "      <td>171.269691</td>\n",
       "      <td>2.061269</td>\n",
       "      <td>0.874438</td>\n",
       "      <td>47849</td>\n",
       "      <td>244.863479</td>\n",
       "      <td>0.706807</td>\n",
       "      <td>0.984158</td>\n",
       "      <td>0.774043</td>\n",
       "      <td>0.693600</td>\n",
       "      <td>0.007497</td>\n",
       "      <td>0.001070</td>\n",
       "      <td>0.481080</td>\n",
       "      <td>0.991636</td>\n",
       "    </tr>\n",
       "    <tr>\n",
       "      <th>5769</th>\n",
       "      <td>45816</td>\n",
       "      <td>859.129</td>\n",
       "      <td>338.735770</td>\n",
       "      <td>173.166110</td>\n",
       "      <td>1.956132</td>\n",
       "      <td>0.859454</td>\n",
       "      <td>46674</td>\n",
       "      <td>241.525864</td>\n",
       "      <td>0.793103</td>\n",
       "      <td>0.981617</td>\n",
       "      <td>0.780028</td>\n",
       "      <td>0.713021</td>\n",
       "      <td>0.007393</td>\n",
       "      <td>0.001179</td>\n",
       "      <td>0.508400</td>\n",
       "      <td>0.994497</td>\n",
       "    </tr>\n",
       "  </tbody>\n",
       "</table>\n",
       "</div>"
      ],
      "text/plain": [
       "       Area  Perimeter  MajorAxisLength  MinorAxisLength  AspectRation  \\\n",
       "7448  34189    687.252       249.062125       174.993660      1.423264   \n",
       "9407  47783    820.597       311.415698       196.680458      1.583359   \n",
       "9908  51935    864.959       326.225089       203.108862      1.606159   \n",
       "5834  47091    874.362       353.032918       171.269691      2.061269   \n",
       "5769  45816    859.129       338.735770       173.166110      1.956132   \n",
       "\n",
       "      Eccentricity  ConvexArea  EquivDiameter    Extent  Solidity  roundness  \\\n",
       "7448      0.711575       34559     208.640329  0.730066  0.989294   0.909629   \n",
       "9407      0.775320       48265     246.656046  0.826524  0.990013   0.891710   \n",
       "9908      0.782538       52490     257.149170  0.795573  0.989427   0.872326   \n",
       "5834      0.874438       47849     244.863479  0.706807  0.984158   0.774043   \n",
       "5769      0.859454       46674     241.525864  0.793103  0.981617   0.780028   \n",
       "\n",
       "      Compactness  ShapeFactor1  ShapeFactor2  ShapeFactor3  ShapeFactor4  \n",
       "7448     0.837704      0.007285      0.002213      0.701748      0.998772  \n",
       "9407     0.792048      0.006517      0.001582      0.627339      0.993303  \n",
       "9908     0.788257      0.006281      0.001496      0.621349      0.997985  \n",
       "5834     0.693600      0.007497      0.001070      0.481080      0.991636  \n",
       "5769     0.713021      0.007393      0.001179      0.508400      0.994497  "
      ]
     },
     "execution_count": 35,
     "metadata": {},
     "output_type": "execute_result"
    }
   ],
   "source": [
    "X_test.iloc[0:5]"
   ]
  },
  {
   "cell_type": "code",
   "execution_count": 37,
   "id": "5d21ee7b",
   "metadata": {},
   "outputs": [
    {
     "data": {
      "text/plain": [
       "array(['DERMASON', 'SIRA', 'HOROZ', 'HOROZ', 'SIRA'], dtype=object)"
      ]
     },
     "execution_count": 37,
     "metadata": {},
     "output_type": "execute_result"
    }
   ],
   "source": [
    "le.inverse_transform(model.predict(X_test.iloc[0:5]))"
   ]
  },
  {
   "cell_type": "code",
   "execution_count": 27,
   "id": "a14b79b3",
   "metadata": {},
   "outputs": [
    {
     "name": "stdout",
     "output_type": "stream",
     "text": [
      "    0   1   2    3    4    5    6\n",
      "0  46   0  47    0    6    0    4\n",
      "1   0  33   0    0    0    0    0\n",
      "2  20   0  81    0    3    0    0\n",
      "3   0   0   0  223    0   32    9\n",
      "4   0   0   4    3  104    0   22\n",
      "5   2   0   0   26    1  127   22\n",
      "6   0   0   0   10   10   21  144\n"
     ]
    }
   ],
   "source": [
    "cm = confusion_matrix(y_test, y_pred)\n",
    "print(pd.DataFrame(cm, index=le.classes_, columns=le.classes_))"
   ]
  },
  {
   "cell_type": "markdown",
   "id": "5f971fe0",
   "metadata": {},
   "source": [
    "## 2. Score mode"
   ]
  },
  {
   "cell_type": "code",
   "execution_count": 31,
   "id": "3c32642f",
   "metadata": {},
   "outputs": [],
   "source": [
    "alpha = 0.05\n",
    "\n",
    "def class_wise_performance(y_new, y_set, classes):\n",
    "    df = pd.DataFrame()\n",
    "    for i in range(len(classes)):\n",
    "        ynew = y_new.values[y_new.values == i]\n",
    "        yscore = y_set[y_new.values == i]\n",
    "        cov = classification_coverage_score(ynew, yscore)\n",
    "        size = classification_mean_width_score(yscore)\n",
    "        \n",
    "        temp_df = pd.DataFrame({\n",
    "            \"class\" : [classes[i]],\n",
    "            \"coverage\" : [cov],\n",
    "            \"avg. set size\" : [size]\n",
    "        }, index = [i])\n",
    "        \n",
    "        df = pd.concat([df, temp_df])\n",
    "    return(df)"
   ]
  },
  {
   "cell_type": "code",
   "execution_count": 40,
   "id": "154bd994",
   "metadata": {},
   "outputs": [
    {
     "data": {
      "text/plain": [
       "array([3, 3, 3, ..., 3, 4, 4])"
      ]
     },
     "execution_count": 40,
     "metadata": {},
     "output_type": "execute_result"
    }
   ],
   "source": [
    "model = GaussianNB().fit(X_train, y_train)\n",
    "\n",
    "# Initialize Classifier\n",
    "mapie_score = MapieClassifier(model, cv=\"prefit\", method=\"score\")\n",
    "\n",
    "# Calibration\n",
    "mapie_score.fit(X_calib, y_calib)\n",
    "\n",
    "# Prediction step\n",
    "y_pred, y_set = mapie_score.predict(X_new, alpha=alpha)\n",
    "# remove alpha-dimension\n",
    "y_set = np.squeeze(y_set)"
   ]
  },
  {
   "cell_type": "code",
   "execution_count": 33,
   "id": "e147e18b",
   "metadata": {},
   "outputs": [
    {
     "name": "stdout",
     "output_type": "stream",
     "text": [
      "Coverage: 96.28%\n",
      "Avg. set size: 1.831782\n",
      "\n",
      "      class  coverage  avg. set size\n",
      "0  BARBUNYA  0.925287       2.137931\n",
      "1    BOMBAY  1.000000       1.000000\n",
      "2      CALI  0.965909       2.130682\n",
      "3  DERMASON  0.972906       1.463054\n",
      "4     HOROZ  0.938525       1.872951\n",
      "5     SEKER  0.970213       2.017021\n",
      "6      SIRA  0.974277       1.974277\n"
     ]
    }
   ],
   "source": [
    "cov = classification_coverage_score(y_new, y_set)\n",
    "setsize = classification_mean_width_score(y_set)\n",
    "print(\"Coverage: {:.2%}\".format(cov))\n",
    "print(\"Avg. set size: {:2f}\\n\".format(setsize))\n",
    "print(class_wise_performance(y_new, y_set, le.classes_))"
   ]
  },
  {
   "cell_type": "markdown",
   "id": "7d036779",
   "metadata": {},
   "source": [
    "### 2.1 Conformal by Hand"
   ]
  },
  {
   "cell_type": "code",
   "execution_count": 8,
   "id": "16888f96",
   "metadata": {},
   "outputs": [],
   "source": [
    "model = GaussianNB().fit(X_train, y_train)\n",
    "alpha = 0.05\n",
    "n = len(X_calib)"
   ]
  },
  {
   "cell_type": "code",
   "execution_count": 25,
   "id": "e3b2051f",
   "metadata": {},
   "outputs": [],
   "source": [
    "# predict heuristic notion of uncertainty from model for calibration \n",
    "raw_score_cal = model.predict_proba(X_calib)\n",
    "raw_score_new = model.predict_proba(X_new)"
   ]
  },
  {
   "cell_type": "code",
   "execution_count": 19,
   "id": "0d9b8c1c",
   "metadata": {},
   "outputs": [],
   "source": [
    "# 1: get conformal scores. n = calib_Y.shape[0]\n",
    "cal_scores = 1-raw_score_cal[np.arange(n),y_calib]"
   ]
  },
  {
   "cell_type": "code",
   "execution_count": 41,
   "id": "82bd0e80",
   "metadata": {},
   "outputs": [],
   "source": [
    "# 2: get adjusted quantile\n",
    "q_level = np.ceil((n+1)*(1-alpha))/n\n",
    "qhat = np.quantile(cal_scores, q_level, interpolation='higher')\n",
    "prediction_sets = raw_score_new >= (1-qhat) # 3: form prediction sets\n",
    "prediction = model.predict(X_new)"
   ]
  },
  {
   "cell_type": "code",
   "execution_count": 42,
   "id": "2bcab20b",
   "metadata": {},
   "outputs": [
    {
     "name": "stdout",
     "output_type": "stream",
     "text": [
      "Coverage: 96.34%\n",
      "Avg. set size: 1.837368\n",
      "\n",
      "      class  coverage  avg. set size\n",
      "0  BARBUNYA  0.925287       2.149425\n",
      "1    BOMBAY  1.000000       1.000000\n",
      "2      CALI  0.965909       2.136364\n",
      "3  DERMASON  0.972906       1.465517\n",
      "4     HOROZ  0.938525       1.881148\n",
      "5     SEKER  0.974468       2.021277\n",
      "6      SIRA  0.974277       1.980707\n"
     ]
    }
   ],
   "source": [
    "cov = classification_coverage_score(y_new, prediction_sets)\n",
    "setsize = classification_mean_width_score(prediction_sets)\n",
    "print(\"Coverage: {:.2%}\".format(cov))\n",
    "print(\"Avg. set size: {:2f}\\n\".format(setsize))\n",
    "print(class_wise_performance(y_new, prediction_sets, le.classes_))"
   ]
  },
  {
   "cell_type": "markdown",
   "id": "8159a15f",
   "metadata": {},
   "source": [
    "## 3. Adaptive prediction set"
   ]
  },
  {
   "cell_type": "code",
   "execution_count": 85,
   "id": "3daa4060",
   "metadata": {},
   "outputs": [],
   "source": [
    "# Initialize Classifier\n",
    "mapie_score = MapieClassifier(model, cv=\"prefit\", method=\"cumulated_score\", random_state=1)\n",
    "\n",
    "# Calibration\n",
    "mapie_score.fit(X_calib, y_calib)\n",
    "\n",
    "# Prediction step\n",
    "y_pred, y_set = mapie_score.predict(X_new, alpha=alpha, include_last_label=\"randomized\")\n",
    "# remove alpha-dimension\n",
    "y_set = np.squeeze(y_set)"
   ]
  },
  {
   "cell_type": "code",
   "execution_count": 86,
   "id": "40b77b9a",
   "metadata": {},
   "outputs": [
    {
     "name": "stdout",
     "output_type": "stream",
     "text": [
      "Coverage: 95.97%\n",
      "Avg. set size: 1.890751\n",
      "\n",
      "      class  coverage  avg. set size\n",
      "0  BARBUNYA  0.931034       2.212644\n",
      "1    BOMBAY  1.000000       2.000000\n",
      "2      CALI  0.960227       2.164773\n",
      "3  DERMASON  0.972906       1.443350\n",
      "4     HOROZ  0.934426       1.979508\n",
      "5     SEKER  0.961702       1.978723\n",
      "6      SIRA  0.967846       1.980707\n"
     ]
    }
   ],
   "source": [
    "cov = classification_coverage_score(y_new, y_set)\n",
    "setsize = classification_mean_width_score(y_set)\n",
    "print(\"Coverage: {:.2%}\".format(cov))\n",
    "print(\"Avg. set size: {:2f}\\n\".format(setsize))\n",
    "print(class_wise_performance(y_new, y_set, le.classes_))"
   ]
  }
 ],
 "metadata": {
  "kernelspec": {
   "display_name": "Python [conda env:conformal_env] *",
   "language": "python",
   "name": "conda-env-conformal_env-py"
  },
  "language_info": {
   "codemirror_mode": {
    "name": "ipython",
    "version": 3
   },
   "file_extension": ".py",
   "mimetype": "text/x-python",
   "name": "python",
   "nbconvert_exporter": "python",
   "pygments_lexer": "ipython3",
   "version": "3.10.13"
  }
 },
 "nbformat": 4,
 "nbformat_minor": 5
}
